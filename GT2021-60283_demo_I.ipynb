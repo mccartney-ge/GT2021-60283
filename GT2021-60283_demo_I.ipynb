{
 "cells": [
  {
   "cell_type": "markdown",
   "metadata": {},
   "source": [
    "# GT2021-60283 Demo I - Load and Transform Data"
   ]
  },
  {
   "cell_type": "code",
   "execution_count": 1,
   "metadata": {},
   "outputs": [],
   "source": [
    "import numpy as np\n",
    "import matplotlib.pyplot as plt\n",
    "import pandas as pd\n",
    "import glob"
   ]
  },
  {
   "cell_type": "code",
   "execution_count": 6,
   "metadata": {},
   "outputs": [],
   "source": [
    "LF_file = \"data/NTNU_LF.h5\"\n",
    "HF_files = glob.glob(\"data/*kW.h5\")"
   ]
  },
  {
   "cell_type": "code",
   "execution_count": 12,
   "metadata": {},
   "outputs": [],
   "source": [
    "with pd.HDFStore(LF_file, 'r') as store:\n",
    "    LF_df = store.get(\"LF0000\")\n",
    "for i, HF_file in enumerate(HF_files):\n",
    "    key = HF_file.split('//')[-1].split('.')[0]\n",
    "    with pd.HDFStore(HF_file, 'r') as store:\n",
    "        if i ==0:\n",
    "            HF_df = store.get(\"T0000\")\n",
    "            HF_df['key'] = key\n",
    "        else:\n",
    "            temp_HF = store.get(\"T0000\")\n",
    "            temp_HF['key'] = key\n",
    "            HF_df = HF_df.append(temp_HF)"
   ]
  },
  {
   "cell_type": "code",
   "execution_count": 9,
   "metadata": {},
   "outputs": [
    {
     "name": "stdout",
     "output_type": "stream",
     "text": [
      "<class 'pandas.core.frame.DataFrame'>\n",
      "Float64Index: 22924 entries, 16677.0 to 387002.0\n",
      "Data columns (total 15 columns):\n",
      " #   Column                          Non-Null Count  Dtype  \n",
      "---  ------                          --------------  -----  \n",
      " 0   TIME                            22924 non-null  float64\n",
      " 1   Z - Mass flow                   22924 non-null  float64\n",
      " 2   Exhaust temperature             22924 non-null  float64\n",
      " 3   TC4                             22924 non-null  float64\n",
      " 4   TC5                             22924 non-null  float64\n",
      " 5   TC6                             22924 non-null  float64\n",
      " 6   TC7                             22924 non-null  float64\n",
      " 7   TC8                             22924 non-null  float64\n",
      " 8   TC9                             22924 non-null  float64\n",
      " 9   TC10                            22924 non-null  float64\n",
      " 10  TC11                            22924 non-null  float64\n",
      " 11  Flashback temperature - Single  22924 non-null  float64\n",
      " 12  TC13                            22924 non-null  float64\n",
      " 13  TC14                            22924 non-null  float64\n",
      " 14  TC15                            22924 non-null  float64\n",
      "dtypes: float64(15)\n",
      "memory usage: 2.8 MB\n"
     ]
    }
   ],
   "source": [
    "LF_df.info()"
   ]
  },
  {
   "cell_type": "code",
   "execution_count": 13,
   "metadata": {},
   "outputs": [
    {
     "name": "stdout",
     "output_type": "stream",
     "text": [
      "<class 'pandas.core.frame.DataFrame'>\n",
      "Int64Index: 4584203 entries, 3335400 to 7298000\n",
      "Data columns (total 3 columns):\n",
      " #   Column               Dtype  \n",
      "---  ------               -----  \n",
      " 0   TIME                 float64\n",
      " 1   upper_mic_theta_000  float64\n",
      " 2   key                  object \n",
      "dtypes: float64(2), object(1)\n",
      "memory usage: 139.9+ MB\n"
     ]
    }
   ],
   "source": [
    "HF_df.info()"
   ]
  },
  {
   "cell_type": "code",
   "execution_count": null,
   "metadata": {},
   "outputs": [],
   "source": []
  }
 ],
 "metadata": {
  "kernelspec": {
   "display_name": "Python 3",
   "language": "python",
   "name": "python3"
  },
  "language_info": {
   "codemirror_mode": {
    "name": "ipython",
    "version": 3
   },
   "file_extension": ".py",
   "mimetype": "text/x-python",
   "name": "python",
   "nbconvert_exporter": "python",
   "pygments_lexer": "ipython3",
   "version": "3.8.5"
  }
 },
 "nbformat": 4,
 "nbformat_minor": 4
}
