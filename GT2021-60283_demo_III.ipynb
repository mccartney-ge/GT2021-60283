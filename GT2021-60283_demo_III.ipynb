{
 "cells": [
  {
   "cell_type": "markdown",
   "metadata": {},
   "source": [
    "# GT2021-60283 Demo III - Train a BNN\n"
   ]
  },
  {
   "cell_type": "code",
   "execution_count": 2,
   "metadata": {},
   "outputs": [],
   "source": [
    "import pandas as pd\n",
    "import numpy as np\n",
    "import sys\n",
    "import os\n",
    "os.environ[\"CUDA_VISIBLE_DEVICES\"]=\"-1\"\n",
    "import matplotlib.pyplot as plt\n",
    "import tensorflow as tf\n",
    "from tensorflow.keras import layers, Model, Sequential\n",
    "from tensorflow import keras\n",
    "from tensorflow.keras import backend as K\n",
    "from sklearn.preprocessing import StandardScaler"
   ]
  },
  {
   "cell_type": "code",
   "execution_count": 13,
   "metadata": {},
   "outputs": [],
   "source": [
    "def load_dataset(data_dir, file_stem, label_key, train_df=None, val_df=None,\n",
    "                 keep_cols=None):\n",
    "    scaler = StandardScaler()\n",
    "    if train_df is None or val_df is None:\n",
    "        train_df = pd.read_csv('{}/{}_train.csv'.format(data_dir, file_stem)).set_index('orig_idx', drop=False)\n",
    "        val_df = pd.read_csv('{}/{}_val.csv'.format(data_dir, file_stem)).set_index('orig_idx', drop=False)\n",
    "        test_df = pd.read_csv('{}/{}_test.csv'.format(data_dir, file_stem)).set_index('orig_idx', drop=False)\n",
    "    if not isinstance(label_key, list):\n",
    "        label_key = [label_key]\n",
    "    val = list(train_df.drop(columns=label_key+['orig_idx']).keys())\n",
    "    if keep_cols is not None:\n",
    "        val = keep_cols\n",
    "    for lab_key in label_key:\n",
    "        assert(lab_key not in val)\n",
    "    assert('orig_idx' not in val)\n",
    "    y_train = train_df[label_key].values\n",
    "    y_val = val_df[label_key].values\n",
    "    y_test = test_df[label_key].values\n",
    "    x_dim = len(val)\n",
    "    X_train = scaler.fit_transform(train_df.loc[:, val])\n",
    "    X_val = scaler.transform(val_df.loc[:, val])\n",
    "    X_test = scaler.transform(test_df.loc[:, val])\n",
    "\n",
    "    return X_train, y_train, X_val, y_val, X_test, y_test, train_df, val_df, test_df, val\n",
    "\n",
    "\n",
    "def build_model(num_hidden, num_neurons, W1_var, lr,n_train, x_dim, activ_func='relu',\n",
    "                num_label_categories=None,\n",
    "                sigmoid_out=False,\n",
    "                optimiser='adam'):\n",
    "\n",
    "    # Set params\n",
    "    FXtractor_hidden=[num_neurons for i in range(num_hidden)]\n",
    "\n",
    "\n",
    "    data_noise = 0.5\n",
    "    reg_dicts = []\n",
    "    shape_in = x_dim\n",
    "    for i in range(num_hidden):\n",
    "        if i ==0:\n",
    "            reg_dict = {'W_var': W1_var/shape_in}\n",
    "        else:\n",
    "            reg_dict = {'W_var': 1/num_neurons}\n",
    "        reg_dict['W_lambda'] = data_noise/reg_dict['W_var']\n",
    "        reg_dict['W_anc'] = np.random.normal(loc=0,scale=np.sqrt(reg_dict['W_var']),size=[shape_in, num_neurons])\n",
    "        reg_dict['W_init'] = np.random.normal(loc=0,scale=np.sqrt(reg_dict['W_var']),size=[shape_in, num_neurons])\n",
    "        if i ==0:\n",
    "            reg_dict['b_var'] = reg_dict['W_var']*shape_in\n",
    "        else:\n",
    "            reg_dict['b_var'] = reg_dict['W_var']\n",
    "        reg_dict['b_lambda'] = data_noise/reg_dict['b_var']\n",
    "        reg_dict['b_anc'] = np.random.normal(loc=0,scale=np.sqrt(reg_dict['b_var']),size=[num_neurons])\n",
    "        reg_dict['b_init'] = np.random.normal(loc=0,scale=np.sqrt(reg_dict['b_var']),size=[num_neurons])\n",
    "        if i ==num_hidden -2:\n",
    "            shape_in = num_neurons\n",
    "            num_neurons = 1\n",
    "        else:\n",
    "            shape_in = num_neurons\n",
    "        reg_dicts.append(reg_dict)\n",
    "    #print(reg_dicts)\n",
    "    def build_reg_func(W_anc, W_lambda, n_train):\n",
    "        def custom_anc_reg(weight_matrix):\n",
    "            return K.sum(K.square(weight_matrix - W_anc)) * W_lambda/n_train\n",
    "        return custom_anc_reg\n",
    "\n",
    "    # Input data\n",
    "    X = tf.keras.Input(shape=(x_dim,), name='X')\n",
    "\n",
    "    # Feature extractor\n",
    "    FXtractor_layers = []\n",
    "    FXtractor_in = X\n",
    "    for i, nuerons in enumerate(FXtractor_hidden[:-1]):\n",
    "        reg_dict = reg_dicts[i]\n",
    "\n",
    "        FXtractor_layers.append(layers.Dense(nuerons, activation = activ_func,\n",
    "                                             kernel_initializer=keras.initializers.Constant(value=reg_dict['W_init']),\n",
    "                                             bias_initializer=keras.initializers.Constant(value=reg_dict['b_init']),\n",
    "                                             kernel_regularizer=build_reg_func(reg_dict['W_anc'], reg_dict['W_lambda'] ,n_train) ,\n",
    "                                             bias_regularizer=build_reg_func(reg_dict['b_anc'], reg_dict['b_lambda'] ,n_train)\n",
    "                                            )(FXtractor_in))\n",
    "        FXtractor_in = FXtractor_layers[-1]\n",
    "\n",
    "\n",
    "\n",
    "    if num_label_categories is not None:\n",
    "        label_activ = 'softmax'\n",
    "        label_loss = 'sparse_categorical_crossentropy'\n",
    "        n_label_neurons = num_label_categories\n",
    "    else:\n",
    "        label_activ = 'sigmoid'\n",
    "        label_loss = 'binary_crossentropy'\n",
    "        n_label_neurons = 1\n",
    "    reg_dict = reg_dicts[-1]\n",
    "    # Label predictor - single layer\n",
    "    label_pred = layers.Dense(n_label_neurons, activation = label_activ,\n",
    "                                             kernel_initializer=keras.initializers.Constant(value=reg_dict['W_init']),\n",
    "                                             bias_initializer=keras.initializers.Constant(value=reg_dict['b_init']),\n",
    "                                             kernel_regularizer=build_reg_func(reg_dict['W_anc'], reg_dict['W_lambda'] ,n_train) ,\n",
    "                                             bias_regularizer=build_reg_func(reg_dict['b_anc'], reg_dict['b_lambda'] ,n_train)\n",
    "                                            )(FXtractor_in)\n",
    "\n",
    "    label_model = Model(inputs=X, outputs=label_pred)\n",
    "\n",
    "    # Optimization\n",
    "    if optimiser == 'adam':\n",
    "        optimiser = tf.keras.optimizers.Adam(learning_rate=lr)\n",
    "    else:\n",
    "        optimiser = tf.keras.optimizers.Adadelta()\n",
    "    label_model.compile(optimizer=optimiser,\n",
    "                       loss=label_loss,\n",
    "                       metrics=['accuracy', 'binary_crossentropy'])\n",
    "\n",
    "\n",
    "    return label_model\n",
    "\n",
    "def predict_ensemble(NNs, X):\n",
    "    preds = np.zeros((X.shape[0], len(NNs)))\n",
    "    for m, NN in enumerate(NNs):\n",
    "        preds[:, m] = NN.predict(X).reshape(-1)\n",
    "    return preds, np.mean(preds, axis=1), np.std(preds, axis=1)\n"
   ]
  },
  {
   "cell_type": "code",
   "execution_count": 3,
   "metadata": {},
   "outputs": [],
   "source": [
    "dataset_name = 'NTNU0000_OP_T'\n",
    "X_train, y_train, X_val, y_val, X_test, y_test, train_df, val_df, test_df, pred_cols = load_dataset('data', '{}'.format(dataset_name), 'upper_mic_theta_000_250_label_fut')\n"
   ]
  },
  {
   "cell_type": "code",
   "execution_count": 32,
   "metadata": {},
   "outputs": [],
   "source": [
    "indep_div = 3000\n",
    "n_train = X_train.shape[0]//indep_div\n",
    "x_dim = X_train.shape[-1]\n",
    "ensemble_size = 12\n",
    "num_hidden = 3\n",
    "num_neurons = 50\n",
    "lr = 1e-4"
   ]
  },
  {
   "cell_type": "code",
   "execution_count": 33,
   "metadata": {},
   "outputs": [],
   "source": [
    "NNs = []\n",
    "for m in range(ensemble_size):\n",
    "    NNs.append(build_model(num_hidden, num_neurons, 1,  lr,n_train, x_dim,))"
   ]
  },
  {
   "cell_type": "code",
   "execution_count": 34,
   "metadata": {},
   "outputs": [],
   "source": [
    "preds, pred_mu, pred_std = predict_ensemble(NNs, X_train)"
   ]
  },
  {
   "cell_type": "code",
   "execution_count": 35,
   "metadata": {},
   "outputs": [
    {
     "data": {
      "image/png": "[encoded data removed]",
      "text/plain": [
       "<Figure size 432x288 with 1 Axes>"
      ]
     },
     "metadata": {
      "needs_background": "light"
     },
     "output_type": "display_data"
    }
   ],
   "source": [
    "plt.figure()\n",
    "plt.plot(pred_mu)\n",
    "plt.fill_between(np.arange(preds.shape[0]), np.percentile(preds, 95, axis=1), np.percentile(preds, 5, axis=1), alpha=0.5)\n",
    "plt.show()"
   ]
  },
  {
   "cell_type": "code",
   "execution_count": null,
   "metadata": {},
   "outputs": [],
   "source": [
    "train_hists = []\n",
    "for NN in NNs:\n",
    "    earlystopping_callback = tf.keras.callbacks.EarlyStopping('val_loss', patience=25)\n",
    "    train_hists.append(NN.fit(X_train, y_train, validation_data=(X_val, y_val), batch_size=2048, epochs=5000,\n",
    "                 callbacks=[earlystopping_callback], verbose=1))"
   ]
  },
  {
   "cell_type": "code",
   "execution_count": null,
   "metadata": {},
   "outputs": [],
   "source": [
    "preds, pred_mu, pred_std = predict_ensemble(NNs, X_test)\n",
    "plt.figure()\n",
    "plt.plot(pred_mu)\n",
    "plt.fill_between(np.arange(preds.shape[0]), np.percentile(preds, 95, axis=1), np.percentile(preds, 5, axis=1), alpha=0.5)\n",
    "plt.show()"
   ]
  }
 ],
 "metadata": {
  "kernelspec": {
   "display_name": "Python 3",
   "language": "python",
   "name": "python3"
  },
  "language_info": {
   "codemirror_mode": {
    "name": "ipython",
    "version": 3
   },
   "file_extension": ".py",
   "mimetype": "text/x-python",
   "name": "python",
   "nbconvert_exporter": "python",
   "pygments_lexer": "ipython3",
   "version": "3.8.5"
  }
 },
 "nbformat": 4,
 "nbformat_minor": 4
}
