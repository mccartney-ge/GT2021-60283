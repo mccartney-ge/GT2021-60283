{
 "cells": [
  {
   "cell_type": "markdown",
   "metadata": {},
   "source": [
    "# GT2021-60283 Demo II- Create Train, Tune and Test Data Sets"
   ]
  },
  {
   "cell_type": "code",
   "execution_count": 1,
   "metadata": {},
   "outputs": [],
   "source": [
    "import numpy as np\n",
    "import sys\n",
    "import pandas as pd\n",
    "import pickle"
   ]
  },
  {
   "cell_type": "code",
   "execution_count": 2,
   "metadata": {},
   "outputs": [],
   "source": [
    "label= 'upper_mic_theta_000_250_label_fut'\n",
    "with pd.HDFStore(\"data/NTNU_LF.h5\", 'r') as store:\n",
    "    LF_df = store.get('LF0000').set_index('orig_idx', drop=False)\n",
    "LF_df = LF_df.assign(**dict.fromkeys([\"{}_{}\".format('upper_mic_theta_000_H_250_label', i) for i in range(10)], 0))\n",
    "for i in range(10):\n",
    "    LF_df.iloc[:-((i+1)*25), -10+i]  = (LF_df['upper_mic_theta_000_H_250_label'].values[(i+1)*25:]).astype(float)"
   ]
  },
  {
   "cell_type": "code",
   "execution_count": 3,
   "metadata": {},
   "outputs": [],
   "source": [
    "for i, key in enumerate(LF_df['key'].unique()):\n",
    "    HF_file = 'data/{}_welch.h5'.format(key)\n",
    "    with pd.HDFStore(HF_file, 'r') as store:\n",
    "        temp_HF = store.get('T0000').set_index('orig_idx', drop=False)\n",
    "    fft_cols = [col for col in temp_HF.keys() if col not in ['TIME', 'orig_idx']]\n",
    "    if i ==0:\n",
    "        LF_df = LF_df.assign(**dict.fromkeys(fft_cols, 0))\n",
    "    LF_df.loc[temp_HF.index, fft_cols] = temp_HF[fft_cols]\n",
    "    assert(np.all(LF_df.loc[temp_HF.index, 'TIME']==temp_HF['TIME']))"
   ]
  },
  {
   "cell_type": "code",
   "execution_count": 6,
   "metadata": {},
   "outputs": [],
   "source": [
    "def add_fut(df, label):\n",
    "    df_len = len(df)\n",
    "    label_vals = np.zeros((int(10*df_len)))\n",
    "    time_vals = np.zeros((int(10*df_len)))\n",
    "    for i in range(10):\n",
    "            label_vals[i*df_len:(i+1)*df_len] = df[\"{}_{}\".format('upper_mic_theta_000_H_250_label', i)].values\n",
    "            time_vals[i*df_len:(i+1)*df_len] = (i+1)*0.1\n",
    "\n",
    "    df = pd.DataFrame(np.tile(df.values, (10, 1)), columns = df.keys())\n",
    "    df[label] = label_vals\n",
    "    df['TIME_fut'] = time_vals\n",
    "    return df"
   ]
  },
  {
   "cell_type": "code",
   "execution_count": 11,
   "metadata": {},
   "outputs": [],
   "source": [
    "train_tune_keys = ['ramp10_4kW', 'ramp17_4kW']\n",
    "test_keys = ['ramp3_4kW']\n",
    "train_tune_split = 0.7\n",
    "train_df = LF_df[LF_df['key'].isin(train_tune_keys)].sample(frac=0.7)\n",
    "tune_df = LF_df[LF_df['key'].isin(train_tune_keys)].drop(index=train_df.index)\n",
    "test_df = LF_df[LF_df['key'].isin(test_keys)]\n",
    "train_df = add_fut(train_df, label)\n",
    "tune_df = add_fut(tune_df, label)\n",
    "test_df = add_fut(test_df, label)"
   ]
  },
  {
   "cell_type": "code",
   "execution_count": 12,
   "metadata": {},
   "outputs": [],
   "source": [
    "temp_keys = [key for key in LF_df.keys() if 'TC' in key or 'emperature' in key]\n",
    "pred_combinations_orig = {'OP_T':['Z - Mass flow']+temp_keys,\n",
    "                         'OP_FFT':['Z - Mass flow']+fft_cols,\n",
    "                         'OP':['Z - Mass flow']}\n",
    "pred_combinations = {}\n",
    "for key, item in pred_combinations_orig.items():\n",
    "    pred_combinations[key] = item\n",
    "    pred_combinations[key] += ['TIME_fut']"
   ]
  },
  {
   "cell_type": "code",
   "execution_count": null,
   "metadata": {},
   "outputs": [],
   "source": [
    "test_id = 'NTNU0000'\n",
    "destination = 'data'\n",
    "for key, item in pred_combinations.items():\n",
    "    train = train_df[item+['orig_idx']].dropna()\n",
    "    val = tune_df[item+['orig_idx']].dropna()\n",
    "    test = test_df[item+['orig_idx']].dropna()\n",
    "    train.to_csv(\"{}/{}_{}_train.csv\".format(destination, test_id, key))\n",
    "    val.to_csv(\"{}/{}_{}_tval.csv\".format(destination, test_id, key))\n",
    "    test.to_csv(\"{}/{}_{}_test.csv\".format(destination, test_id, key))"
   ]
  },
  {
   "cell_type": "code",
   "execution_count": null,
   "metadata": {},
   "outputs": [],
   "source": []
  }
 ],
 "metadata": {
  "kernelspec": {
   "display_name": "Python 3",
   "language": "python",
   "name": "python3"
  },
  "language_info": {
   "codemirror_mode": {
    "name": "ipython",
    "version": 3
   },
   "file_extension": ".py",
   "mimetype": "text/x-python",
   "name": "python",
   "nbconvert_exporter": "python",
   "pygments_lexer": "ipython3",
   "version": "3.8.5"
  }
 },
 "nbformat": 4,
 "nbformat_minor": 4
}
